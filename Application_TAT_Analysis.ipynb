{
 "cells": [
  {
   "cell_type": "markdown",
   "id": "61299219-0055-4664-b6d7-3be853f00edb",
   "metadata": {},
   "source": [
    "# Importing libraries"
   ]
  },
  {
   "cell_type": "code",
   "execution_count": 1,
   "id": "939d1238-10b1-4eea-8a1a-89b0300c5f35",
   "metadata": {},
   "outputs": [],
   "source": [
    "import time\n",
    "import pandas as pd\n",
    "import numpy as np\n",
    "from datetime import date\n",
    "from datetime import datetime as dt\n",
    "import os"
   ]
  },
  {
   "cell_type": "markdown",
   "id": "6f8c72a1-3395-4415-9d4f-4df706879730",
   "metadata": {},
   "source": [
    "# Importing DataSet"
   ]
  },
  {
   "cell_type": "code",
   "execution_count": null,
   "id": "e8b384dc-eb37-4549-a9ab-1983d3dab6b4",
   "metadata": {},
   "outputs": [],
   "source": [
    "start = time.perf_counter()"
   ]
  },
  {
   "cell_type": "code",
   "execution_count": null,
   "id": "a46d0957-0d45-42f6-9bc8-9949f2653f14",
   "metadata": {},
   "outputs": [],
   "source": [
    "today = input(\"format:2024-01-01\")\n",
    "input_file_path = input()\n",
    "output_file_path = input()"
   ]
  },
  {
   "cell_type": "code",
   "execution_count": null,
   "id": "bf7a774a-82cb-495f-bc72-474573e71542",
   "metadata": {},
   "outputs": [],
   "source": [
    "input_file_path = input_file_path.replace(\"\\\\\",\"/\")\n",
    "output_file_path = output_file_path.replace(\"\\\\\",\"/\")"
   ]
  },
  {
   "cell_type": "code",
   "execution_count": null,
   "id": "dbda0a90-350c-46a3-b274-8c5ec3638329",
   "metadata": {},
   "outputs": [],
   "source": [
    "files = os.listdir(input_file_path)"
   ]
  },
  {
   "cell_type": "code",
   "execution_count": null,
   "id": "8112eef7-931e-4c63-9568-5c4bec4b16a6",
   "metadata": {},
   "outputs": [],
   "source": [
    "Application_cu = os.path.join(input_file_path,files[0])\n",
    "Branch_master_cu = os.path.join(input_file_path,files[1])\n",
    "Decen_cu = os.path.join(input_file_path,files[2])\n",
    "Holiday_list = os.path.join(input_file_path,files[3])\n",
    "Ftr_mis_cu = os.path.join(input_file_path,files[4])\n",
    "Tat_cu = os.path.join(input_file_path,files[5])"
   ]
  },
  {
   "cell_type": "code",
   "execution_count": null,
   "id": "50c6e56c-2e65-4388-ba84-1f25acf57952",
   "metadata": {},
   "outputs": [],
   "source": [
    "Application = pd.read_csv(Application_cu,encoding='windows-1252')\n",
    "BM = pd.read_csv(Branch_master_cu,encoding='windows-1252')\n",
    "Decen = pd.read_csv(Decen_cu,encoding='windows-1252')\n",
    "Holiday = pd.read_csv(Holiday_list,encoding='windows-1252')\n",
    "Ftr = pd.read_csv(Ftr_mis_cu,encoding='windows-1252')\n",
    "Tat = pd.read_csv(Tat_cu,encoding='windows-1252')"
   ]
  },
  {
   "cell_type": "code",
   "execution_count": null,
   "id": "6a05110c-172d-4762-bbb9-4ba6f5af05a7",
   "metadata": {},
   "outputs": [],
   "source": [
    "Tat[\"Start_Time\"] = pd.to_datetime(Tat[\"Start_Time\"],dayfirst=True)\n",
    "Tat[\"End_Time\"] = pd.to_datetime(Tat[\"End_Time\"],dayfirst=True)\n",
    "Tat[\"Desig_date\"] = pd.to_datetime(Tat[\"Desig_date\"],dayfirst=True)\n",
    "Tat[\"Log_Acc_date\"] = pd.to_datetime(Tat[\"Log_Acc_date\"],dayfirst=True)"
   ]
  },
  {
   "cell_type": "code",
   "execution_count": null,
   "id": "830870ec-f7ad-4013-886a-a25b221cffb0",
   "metadata": {},
   "outputs": [],
   "source": [
    "Tat.insert(5,\"Desig_date_month\",pd.Series())\n",
    "Tat.insert(6,\"Com\",pd.Series())\n",
    "Tat.insert(8,\"Tat\",int)\n",
    "Tat.insert(9,\"Bucket\",str)"
   ]
  },
  {
   "cell_type": "code",
   "execution_count": null,
   "id": "efba8916-4af7-408b-84db-f4c2a4e1d328",
   "metadata": {},
   "outputs": [],
   "source": [
    "dates = Tat[\"Desig_date\"]"
   ]
  },
  {
   "cell_type": "code",
   "execution_count": null,
   "id": "9208b08f-e4bc-4262-9f15-3b01ac20d04a",
   "metadata": {},
   "outputs": [],
   "source": [
    "Tat[\"Log_Acc_date\"].fillna(\"1900-01-01\",inplace=True)"
   ]
  },
  {
   "cell_type": "code",
   "execution_count": null,
   "id": "6e2f704b-138c-48a6-8f34-f3586fb129c1",
   "metadata": {},
   "outputs": [],
   "source": [
    "def dated_na(df):\n",
    "    for i in range(len(df[\"Application\"])):\n",
    "        if str(df[\"Log_Acc_date\"].iloc[i]).split()[0] == \"1900-01-01\":\n",
    "            df[\"Log_Acc_date\"].iloc[i] = df[\"Start_Time\"].iloc[i]\n",
    "            \n",
    "                        \n",
    "def ext_date_month(series,df):\n",
    "    proc_date = []\n",
    "    \n",
    "    for date_str in series:\n",
    "        if pd.isna(date_str):\n",
    "            proc_date.append(None)\n",
    "        else:\n",
    "            date_part=str(date_str).split('-')\n",
    "            if len(date_part)>=2:\n",
    "                year,month = map(int,date_part[:2])\n",
    "                first_day = dt(year=year,month=month,day=1).strftime('%d-%m-%Y')\n",
    "                proc_date.append(first_day)\n",
    "            else:\n",
    "                proc_date.append(None)\n",
    "    df[\"Desig_date_month\"] = proc_date\n",
    "    return df[\"Desig_date_month\"]\n",
    "            \n",
    "\n",
    "    \n",
    "def compare(series):\n",
    "    zipped = list(zip(series[\"Application\"],series[\"Application\"].shift(1)))\n",
    "    l = [0 if value[0] == value[1] else 1 for value in zipped]\n",
    "    return l\n",
    "\n",
    "def Branchs(df,odf):\n",
    "    merged = df.merge(odf[[\"Branch\",\"Branch_1\"]],how='left')\n",
    "    return merged\n",
    "\n",
    "\n",
    "def Scheme_mapper(df):\n",
    "    scheme = [str(i) for i in df[\"Scheme\"]]\n",
    "    for i in range(len(scheme)):\n",
    "        if \"Formal\" in str(scheme[i]):\n",
    "            df[\"Occupation\"].iloc[i] = \"Formal Sal\"\n",
    "        if \"Cash Sal\" in str(scheme[i]):\n",
    "            df[\"Occupation\"].iloc[i] = \"Cash Sal\"\n",
    "        if \"Self Employ\" in str(scheme[i]):\n",
    "            df[\"Occupation\"].iloc[i] = \"Self Employ\"\n",
    "        \n",
    "    return df\n",
    "\n",
    "def Treat_occ(df):\n",
    "    Occu = [i for i in df[\"Occupation\"]]\n",
    "    for i in range(len(Occu)):\n",
    "        if Occu[i] == \"Salaried\":\n",
    "            df[\"Occupation\"].iloc[i] = \"Cash Sal\"\n",
    "        if pd.isna(df[\"Occupation\"].iloc[i]):\n",
    "            df[\"Occupation\"].iloc[i] = \"Self Employ\"\n",
    "    return df\n",
    "\n",
    "\n",
    "def mixed(df):\n",
    "    mask1 = df[\"App Ocu\"] == \"Formal Sal\"\n",
    "    mask2 = df[\"Co App Ocu\"].isin([\"Cash Sal\",\"Self Employ\",\"Agr\",\"other\"])\n",
    "    df.loc[mask1&mask2,\"Occupation\"] = \"Sal Mixed\"\n",
    "    \n",
    "    mask3 = df[\"App Ocu\"] == \"Cash Sal\"\n",
    "    mask2 = df[\"Co App Ocu\"].isin([\"Cash Sal\",\"Formal Sal\",\"Self Employ\",\"Agr\",\"other\"])\n",
    "    df.loc[mask1&mask2,\"Occupation\"] = \"Sal Mixed\"\n",
    "    \n",
    "    mask1 = df[\"App Ocu\"] == \"Self Employ\"\n",
    "    mask2 = df[\"Co App Ocu\"].isin([\"Cash Sal\",\"Formal Sal\",\"Self Employ\",\"Agr\",\"other\"])\n",
    "    df.loc[mask1&mask2,\"Occupation\"] = \"Sal Mixed\"\n",
    "    \n",
    "    return df\n",
    "\n",
    "def Salaried_mis(df,odf):\n",
    "    merged = df.merge(odf[[\"Application\",\"ocupation\"]],how='left')\n",
    "    return merged\n",
    "\n",
    "def S_M(df):\n",
    "    df[\"Occupation\"] = [\"Sal Mixed\" if df[\"Occupation\"][i] == \"Formal Sal\" and df[\"ocupation\"][i] == \"Sal Mixed\" else df[\"Occupation\"][i] for i in range(len(df))]\n",
    "    return df\n",
    "\n",
    "def mapper(df,decen):\n",
    "    df[\"NonCU\"] = [\"NonCU\" if df[\"Application\"].iloc[i] in decen else \"CU\" for i in range(len(df[\"Application\"]))]\n",
    "    return df\n",
    "\n",
    "def Merger(df,odf,column1,column2):\n",
    "    merge = df.merge(odf[[column1,column2]],how='left')\n",
    "    return merge\n",
    "    \n",
    "def compare_2(ser):\n",
    "    zipped = list(zip(ser[\"Application\"],ser[\"Application\"].shift(1)))\n",
    "    compare =[0 if value[0] == value[1] else 1 for value in zipped]\n",
    "    return compare\n",
    "    \n",
    "    "
   ]
  },
  {
   "cell_type": "code",
   "execution_count": null,
   "id": "393279c7-ad9b-4ecb-8e0e-f45aeb5e458d",
   "metadata": {},
   "outputs": [],
   "source": [
    "Tat = dated_na(Tat)"
   ]
  },
  {
   "cell_type": "code",
   "execution_count": null,
   "id": "0819fdce-4868-4fa2-a5d1-12aea4a19c6a",
   "metadata": {},
   "outputs": [],
   "source": [
    "Tat[\"Desig_date_month\"] = ext_date_month(dates,Tat)"
   ]
  },
  {
   "cell_type": "code",
   "execution_count": null,
   "id": "6cfcd632-dc7e-4ac6-971a-4930cc463cc2",
   "metadata": {},
   "outputs": [],
   "source": [
    "Tat[\"Desig_date_month\"] = pd.to_datetime(Tat[\"Desig_date_month\"],dayfirst=True)"
   ]
  },
  {
   "cell_type": "code",
   "execution_count": null,
   "id": "c26e75c9-2e7e-4ffa-a22e-afa50bf855fa",
   "metadata": {},
   "outputs": [],
   "source": [
    "Tat = Tat.sort_values([\"Application\",\"Desig_date\",\"Current_App_stage\"],ascending=[True,True,True])"
   ]
  },
  {
   "cell_type": "code",
   "execution_count": null,
   "id": "f0362285-bd92-41e9-8ecb-fd459af8f456",
   "metadata": {},
   "outputs": [],
   "source": [
    "Tat[\"Com\"] = compare(Tat)"
   ]
  },
  {
   "cell_type": "code",
   "execution_count": null,
   "id": "b485d44e-6637-4294-b4af-e9e4c8f6b2b8",
   "metadata": {},
   "outputs": [],
   "source": [
    "Tat_data1 = Tat[Tat[\"Com\"]==1]"
   ]
  },
  {
   "cell_type": "code",
   "execution_count": null,
   "id": "98deffaa-9ec4-4d3d-9e0b-79af2c5349b7",
   "metadata": {},
   "outputs": [],
   "source": [
    "Tat_d1 = Tat_data1[Tat_data1[\"Desig_date\"].between(\"2019-01-01\",today,inclusive='both')]"
   ]
  },
  {
   "cell_type": "code",
   "execution_count": null,
   "id": "5be28fa1-6f70-4bd5-9074-95814bc87440",
   "metadata": {},
   "outputs": [],
   "source": [
    "Tat_d1 = Tat_d1.drop(Tat_d1[Tat_d1[\"Desig_date_month\"] == \"1900-01-01\"].index)"
   ]
  },
  {
   "cell_type": "code",
   "execution_count": null,
   "id": "989d6813-0e63-4c71-8b82-063088834e8f",
   "metadata": {},
   "outputs": [],
   "source": [
    "Tat_d1 = Tat_d1.rename(columns={\"Branch Name\":\"Branch\"})\n",
    "BM = BM[[\"branch\",\"branch_1\"]]\n",
    "BM = BM.rename(columns={\"branch\":\"Branch\",\"branch_1\":\"Branch_1\"})"
   ]
  },
  {
   "cell_type": "code",
   "execution_count": null,
   "id": "029b592e-63a1-4457-bc26-9215645589a4",
   "metadata": {},
   "outputs": [],
   "source": [
    "Tat_d1 = Branchs(Tat_d1,BM)"
   ]
  },
  {
   "cell_type": "code",
   "execution_count": null,
   "id": "810d48e6-456c-4f74-8b8a-3f67aca83246",
   "metadata": {
    "tags": []
   },
   "outputs": [],
   "source": [
    "Tat_d1 = Tat_d1.drop([i for i in range(len(Tat_d1)) if str(Tat_d1[\"Branch_1\"][i])= \"nan\" and str(Tat_d1[\"Branch\"][i])== \"nan\"])\n",
    "Tat_d1 = Tat_d1.reset_index()\n",
    "Tat_d1[\"Branch_1\"] = [Tat_d1[\"Branch\"][i].title() if str(Tat_d1[\"Branch_1\"][i]) == \"nan\" else Tat_d1[\"Branch_1\"][i] for i in range(len(Tat_d1))]"
   ]
  },
  {
   "cell_type": "code",
   "execution_count": null,
   "id": "bf79a790-6b68-4aef-8ac2-6cdae136062a",
   "metadata": {
    "tags": []
   },
   "outputs": [],
   "source": [
    "Tat_d1 = mapper(Tat_d1)\n",
    "Tat_d1 = Treat_occ(Tat_d1)"
   ]
  },
  {
   "cell_type": "code",
   "execution_count": null,
   "id": "6cb0aa6d-d175-4eeb-8ff1-ad18ab063ff0",
   "metadata": {},
   "outputs": [],
   "source": [
    "formal_case = Tat_d1[Tat_d1[\"Occupation\"] == \"Formal Sal\"][[\"Application\",\"Occupation\",\"Scheme\",\"Desig_date\"]]\n",
    "formal_case = formal_case[formal_case[\"Desig_date\"].between(\"2023-05-01\",today,inclusive='both')]"
   ]
  },
  {
   "cell_type": "code",
   "execution_count": null,
   "id": "8df9c0ad-5a5f-43ef-a4db-3d0103702205",
   "metadata": {},
   "outputs": [],
   "source": [
    "Ftr = Ftr.rename(columns={\"Application Id\":\"Application\"})\n",
    "Ftr.reset_index(inplace=True)\n",
    "Ftr[\"App Ocu\"] = [\"Formal Sal\" if i ==\"Sal\" else i for i in Ftr[\"App Ocu\"]]\n",
    "Ftr[\"Co App Ocu\"] = [\"Formal Sal\" if i == \"Sal\" else i for i in ftr[\"Co App Ocu\"]]"
   ]
  },
  {
   "cell_type": "code",
   "execution_count": null,
   "id": "e49d789c-e890-450e-9fbc-f49101dc2d0b",
   "metadata": {},
   "outputs": [],
   "source": [
    "Mixed_data = Mixed(Ftr)\n",
    "Tat_d1 = Salaried_mis(Tat_d1,Mixed_data)"
   ]
  },
  {
   "cell_type": "code",
   "execution_count": null,
   "id": "d537ed8d-9247-4b46-a20f-d7eac8051cd5",
   "metadata": {},
   "outputs": [],
   "source": [
    "Tat_d1 = S_M(Tat_d1)"
   ]
  },
  {
   "cell_type": "code",
   "execution_count": null,
   "id": "f5d348b8-563e-4c3e-aac5-ef95b2033268",
   "metadata": {},
   "outputs": [],
   "source": [
    "Decen.rename(columns={\"Application_\":\"Application\"},inplace=True)\n",
    "Tat_d1[\"NonCU\"] = \"\""
   ]
  },
  {
   "cell_type": "code",
   "execution_count": null,
   "id": "d127423a-c6e5-4800-9887-0b191d1c51bb",
   "metadata": {},
   "outputs": [],
   "source": [
    "decen = {k:v for k in Decen[\"Application\"] for v in Decen[\"Flg\"]}"
   ]
  },
  {
   "cell_type": "code",
   "execution_count": null,
   "id": "6d1c50cc-908b-4634-895d-1f61de5745be",
   "metadata": {},
   "outputs": [],
   "source": [
    "Tat_d1 = mapper(df,decen)"
   ]
  },
  {
   "cell_type": "code",
   "execution_count": null,
   "id": "8226ffc1-1f66-490f-94a6-fbed1bae3695",
   "metadata": {},
   "outputs": [],
   "source": [
    "BM1 = BM[\"branch\",\"region\"]\n",
    "BM1 = BM1.rename(columns={'branch':\"Branch1\",\"region\",\"Region\"})"
   ]
  },
  {
   "cell_type": "code",
   "execution_count": null,
   "id": "aea49a89-39f2-45d4-93b4-d0ce4e16f43b",
   "metadata": {},
   "outputs": [],
   "source": [
    "Tat_d1 = Merger(Tat_d1,BM1,\"Branch1\",\"Region\")"
   ]
  },
  {
   "cell_type": "code",
   "execution_count": null,
   "id": "d1f1298c-2f5d-4b16-a93d-781423da5bea",
   "metadata": {},
   "outputs": [],
   "source": [
    "Na = Application[['Application1','L Amount']]\n",
    "Na.rename(colunns = {'Application1':'Application'},inplace=True)"
   ]
  },
  {
   "cell_type": "code",
   "execution_count": null,
   "id": "c1da5230-b8b2-4356-a654-1b764de033e5",
   "metadata": {},
   "outputs": [],
   "source": [
    "Tat_d1 = Merger(Tat_d1,Na,\"Application\",\"L Amount\")"
   ]
  },
  {
   "cell_type": "code",
   "execution_count": null,
   "id": "996d6be3-db76-4b42-9cc8-38e23506972c",
   "metadata": {},
   "outputs": [],
   "source": [
    "Tat_d1['com1'] = compare_2(Tat_d1)\n",
    "Tat_d1 = Tat_d1[Tat_d1['com1']==1]"
   ]
  },
  {
   "cell_type": "code",
   "execution_count": null,
   "id": "5494120d-c35d-4c4d-875d-7ba749c310b6",
   "metadata": {},
   "outputs": [],
   "source": [
    "Tat_Data = Tat_d1\n",
    "Tat_Data.drop(['com1','Branch','index','ocupation'],inplace=True,axis=1)"
   ]
  },
  {
   "cell_type": "code",
   "execution_count": null,
   "id": "d28b0e8c-91e4-422b-8499-3f80b347efcf",
   "metadata": {},
   "outputs": [],
   "source": [
    "Tat_Data.insert(10,'Branch',str)\n",
    "Tat_Data['Branch'] = [Tat_Data['Branch1'].iloc[i] for i in range(len(df))]"
   ]
  },
  {
   "cell_type": "code",
   "execution_count": null,
   "id": "581ec078-d701-4b59-87a4-3efc39d19548",
   "metadata": {},
   "outputs": [],
   "source": [
    "Tat_Data.drop(\"Branch1\",inplace=True,axis=1)"
   ]
  },
  {
   "cell_type": "code",
   "execution_count": null,
   "id": "4e007269-559c-41d0-9b86-fbf0082cdd11",
   "metadata": {},
   "outputs": [],
   "source": [
    "Tat_Data.to_excel(os.path.join(output_file_path,'Tat_Data_1.xlsx'))"
   ]
  },
  {
   "cell_type": "code",
   "execution_count": null,
   "id": "7798d013-e288-409c-a37b-83f19b43509b",
   "metadata": {},
   "outputs": [],
   "source": [
    "end = time.perf_counter()\n",
    "\n",
    "elapsed = end-start\n",
    "print(f\"Elapsed:{elapsed:6f} seconds\")"
   ]
  },
  {
   "cell_type": "code",
   "execution_count": null,
   "id": "bc484b8b-a01f-44b4-a2be-6325557a0f8a",
   "metadata": {},
   "outputs": [],
   "source": []
  },
  {
   "cell_type": "code",
   "execution_count": null,
   "id": "4869126e-2ae9-4a04-a105-fa08aaff6925",
   "metadata": {},
   "outputs": [],
   "source": []
  },
  {
   "cell_type": "code",
   "execution_count": null,
   "id": "fe8faae7-9f49-46e4-b95b-07b8082d94d8",
   "metadata": {},
   "outputs": [],
   "source": []
  },
  {
   "cell_type": "code",
   "execution_count": null,
   "id": "dc4aecf3-a8b4-4621-b48e-3b3ed5f25b13",
   "metadata": {},
   "outputs": [],
   "source": []
  },
  {
   "cell_type": "code",
   "execution_count": null,
   "id": "ecf00fa2-7dae-4512-b6fc-36d038d77d71",
   "metadata": {},
   "outputs": [],
   "source": []
  },
  {
   "cell_type": "code",
   "execution_count": null,
   "id": "ad7f4e0c-d56f-4706-91a9-63c62c911827",
   "metadata": {},
   "outputs": [],
   "source": []
  },
  {
   "cell_type": "code",
   "execution_count": null,
   "id": "12deb5d6-4e7c-4cb4-8f85-856d93c29d27",
   "metadata": {},
   "outputs": [],
   "source": []
  },
  {
   "cell_type": "code",
   "execution_count": null,
   "id": "ed623318-19f7-47fc-95dd-227311ec65c5",
   "metadata": {},
   "outputs": [],
   "source": []
  },
  {
   "cell_type": "code",
   "execution_count": null,
   "id": "bd8a33a2-ef96-4978-b2cb-49ea67bfb1ad",
   "metadata": {},
   "outputs": [],
   "source": []
  },
  {
   "cell_type": "code",
   "execution_count": null,
   "id": "574b6b1d-f9af-427e-af6c-fc6819801886",
   "metadata": {},
   "outputs": [],
   "source": []
  }
 ],
 "metadata": {
  "kernelspec": {
   "display_name": "Python 3 (ipykernel)",
   "language": "python",
   "name": "python3"
  },
  "language_info": {
   "codemirror_mode": {
    "name": "ipython",
    "version": 3
   },
   "file_extension": ".py",
   "mimetype": "text/x-python",
   "name": "python",
   "nbconvert_exporter": "python",
   "pygments_lexer": "ipython3",
   "version": "3.10.6"
  }
 },
 "nbformat": 4,
 "nbformat_minor": 5
}
